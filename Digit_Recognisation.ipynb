{
  "nbformat": 4,
  "nbformat_minor": 0,
  "metadata": {
    "kernelspec": {
      "display_name": "Python 3",
      "language": "python",
      "name": "python3"
    },
    "language_info": {
      "codemirror_mode": {
        "name": "ipython",
        "version": 3
      },
      "file_extension": ".py",
      "mimetype": "text/x-python",
      "name": "python",
      "nbconvert_exporter": "python",
      "pygments_lexer": "ipython3",
      "version": "3.7.6"
    },
    "colab": {
      "name": "Digit Recognisation.ipynb",
      "provenance": [],
      "collapsed_sections": [],
      "include_colab_link": true
    },
    "accelerator": "GPU"
  },
  "cells": [
    {
      "cell_type": "markdown",
      "metadata": {
        "id": "view-in-github",
        "colab_type": "text"
      },
      "source": [
        "<a href=\"https://colab.research.google.com/github/krishnauttej/Digit-Recognisation/blob/master/Digit_Recognisation.ipynb\" target=\"_parent\"><img src=\"https://colab.research.google.com/assets/colab-badge.svg\" alt=\"Open In Colab\"/></a>"
      ]
    },
    {
      "cell_type": "code",
      "metadata": {
        "id": "xzWeJ9GcPy0_",
        "colab_type": "code",
        "colab": {
          "base_uri": "https://localhost:8080/",
          "height": 88
        },
        "outputId": "3347907d-8ee5-4ee1-9d45-99fd568f3421"
      },
      "source": [
        "import pandas as pd\n",
        "import numpy as np\n",
        "import matplotlib.pyplot as plt\n",
        "import matplotlib.image as mpimg\n",
        "import seaborn as sns\n",
        "%matplotlib inline\n",
        "\n",
        "np.random.seed(2)\n",
        "\n",
        "from sklearn.model_selection import train_test_split\n",
        "from sklearn.metrics import confusion_matrix\n",
        "import itertools\n",
        "\n",
        "\n",
        "from keras.utils.np_utils import to_categorical\n",
        "from keras.models import Sequential\n",
        "from keras.layers import Dense, Dropout, Flatten, Conv2D, MaxPool2D, BatchNormalization,AveragePooling2D\n",
        "from keras.optimizers import RMSprop\n",
        "from keras.preprocessing.image import ImageDataGenerator\n",
        "from keras.callbacks import ReduceLROnPlateau,EarlyStopping\n",
        "\n",
        "\n",
        "#sns.set(style='white', context='notebook', palette='deep')"
      ],
      "execution_count": 1,
      "outputs": [
        {
          "output_type": "stream",
          "text": [
            "/usr/local/lib/python3.6/dist-packages/statsmodels/tools/_testing.py:19: FutureWarning: pandas.util.testing is deprecated. Use the functions in the public API at pandas.testing instead.\n",
            "  import pandas.util.testing as tm\n",
            "Using TensorFlow backend.\n"
          ],
          "name": "stderr"
        }
      ]
    },
    {
      "cell_type": "code",
      "metadata": {
        "id": "dI98-2UhPy1L",
        "colab_type": "code",
        "colab": {}
      },
      "source": [
        "# import warnings\n",
        "# warnings.filterwarnings('ignore')"
      ],
      "execution_count": 0,
      "outputs": []
    },
    {
      "cell_type": "code",
      "metadata": {
        "id": "sdtvy_8EPy1S",
        "colab_type": "code",
        "colab": {}
      },
      "source": [
        "\n",
        "train = pd.read_csv(\"train.csv\")\n",
        "test = pd.read_csv(\"test.csv\")\n",
        "\n"
      ],
      "execution_count": 0,
      "outputs": []
    },
    {
      "cell_type": "code",
      "metadata": {
        "id": "bEYb80LbzeHs",
        "colab_type": "code",
        "colab": {
          "base_uri": "https://localhost:8080/",
          "height": 34
        },
        "outputId": "5db0dbc2-26e6-4561-928b-5c7410bc1035"
      },
      "source": [
        "test.shape"
      ],
      "execution_count": 5,
      "outputs": [
        {
          "output_type": "execute_result",
          "data": {
            "text/plain": [
              "(28000, 784)"
            ]
          },
          "metadata": {
            "tags": []
          },
          "execution_count": 5
        }
      ]
    },
    {
      "cell_type": "code",
      "metadata": {
        "id": "NhQCl12hPy1Z",
        "colab_type": "code",
        "outputId": "e38f0804-9d49-42f7-e3d5-11bd03352477",
        "colab": {
          "base_uri": "https://localhost:8080/",
          "height": 51
        }
      },
      "source": [
        "\n",
        "Y_train = train[\"label\"]\n",
        "print(Y_train.shape)\n",
        "\n",
        "\n",
        "\n",
        "X_train = train.drop(labels = [\"label\"],axis = 1) \n",
        "print(X_train.shape)\n",
        "\n",
        "\n",
        "\n",
        "\n",
        "\n",
        "\n",
        "\n"
      ],
      "execution_count": 6,
      "outputs": [
        {
          "output_type": "stream",
          "text": [
            "(42000,)\n",
            "(42000, 784)\n"
          ],
          "name": "stdout"
        }
      ]
    },
    {
      "cell_type": "code",
      "metadata": {
        "id": "dlnMHMaMPy1t",
        "colab_type": "code",
        "colab": {}
      },
      "source": [
        "\n",
        "X_train = X_train / 255.0\n",
        "test = test / 255.0"
      ],
      "execution_count": 0,
      "outputs": []
    },
    {
      "cell_type": "code",
      "metadata": {
        "scrolled": true,
        "id": "FkXeijdsPy1z",
        "colab_type": "code",
        "colab": {}
      },
      "source": [
        "\n",
        "X_train = X_train.values.reshape(-1,28,28,1)\n",
        "test = test.values.reshape(-1,28,28,1)\n"
      ],
      "execution_count": 0,
      "outputs": []
    },
    {
      "cell_type": "code",
      "metadata": {
        "id": "awHWXdSxPy13",
        "colab_type": "code",
        "outputId": "0879df99-9b10-4571-ef4a-aaf5c21d1aea",
        "colab": {
          "base_uri": "https://localhost:8080/",
          "height": 34
        }
      },
      "source": [
        "\n",
        "\n",
        "Y_train = to_categorical(Y_train, num_classes = 10)\n",
        "\n",
        "Y_train.shape"
      ],
      "execution_count": 9,
      "outputs": [
        {
          "output_type": "execute_result",
          "data": {
            "text/plain": [
              "(42000, 10)"
            ]
          },
          "metadata": {
            "tags": []
          },
          "execution_count": 9
        }
      ]
    },
    {
      "cell_type": "code",
      "metadata": {
        "id": "jXc-vzMUPy16",
        "colab_type": "code",
        "colab": {}
      },
      "source": [
        "\n",
        "random_seed = 2\n",
        "\n",
        "\n",
        "X_train, X_val, Y_train, Y_val = train_test_split(X_train, Y_train, test_size = 0.2, random_state=random_seed)"
      ],
      "execution_count": 0,
      "outputs": []
    },
    {
      "cell_type": "code",
      "metadata": {
        "id": "74KnJfXBIRsx",
        "colab_type": "code",
        "outputId": "48a7f4f8-9d63-4bec-ef25-3019c2d66600",
        "colab": {
          "base_uri": "https://localhost:8080/",
          "height": 425
        }
      },
      "source": [
        "model = Sequential()\n",
        "\n",
        "# C1 Convolutional Layer\n",
        "model.add(Conv2D(6, kernel_size=(5, 5), strides=(1, 1), activation='relu', input_shape=(28,28,1), padding=\"same\"))\n",
        "\n",
        "# S2 Pooling Layer\n",
        "model.add(AveragePooling2D(pool_size=(2, 2), strides=(1, 1), padding='valid'))\n",
        "\n",
        "# C3 Convolutional Layer\n",
        "model.add(Conv2D(16, kernel_size=(5, 5), strides=(1, 1), activation='relu', padding='valid'))\n",
        "\n",
        "# S4 Pooling Layer\n",
        "model.add(AveragePooling2D(pool_size=(2, 2), strides=(2, 2), padding='valid'))\n",
        "\n",
        "# C5 Fully Connected Convolutional Layer\n",
        "model.add(Conv2D(120, kernel_size=(5, 5), strides=(1, 1), activation='relu', padding='valid'))\n",
        "\n",
        "#Flatten the CNN output so that we can connect it with fully connected layers\n",
        "model.add(Flatten())\n",
        "\n",
        "# FC6 Fully Connected Layer\n",
        "model.add(Dense(84, activation='relu'))\n",
        "\n",
        "#Output Layer with softmax activation\n",
        "model.add(Dense(10, activation='softmax'))\n",
        "\n",
        "# Compile the model\n",
        "model.compile(loss='categorical_crossentropy', optimizer='SGD', metrics=[\"accuracy\"])\n",
        "\n",
        "model.summary()"
      ],
      "execution_count": 11,
      "outputs": [
        {
          "output_type": "stream",
          "text": [
            "Model: \"sequential_1\"\n",
            "_________________________________________________________________\n",
            "Layer (type)                 Output Shape              Param #   \n",
            "=================================================================\n",
            "conv2d_1 (Conv2D)            (None, 28, 28, 6)         156       \n",
            "_________________________________________________________________\n",
            "average_pooling2d_1 (Average (None, 27, 27, 6)         0         \n",
            "_________________________________________________________________\n",
            "conv2d_2 (Conv2D)            (None, 23, 23, 16)        2416      \n",
            "_________________________________________________________________\n",
            "average_pooling2d_2 (Average (None, 11, 11, 16)        0         \n",
            "_________________________________________________________________\n",
            "conv2d_3 (Conv2D)            (None, 7, 7, 120)         48120     \n",
            "_________________________________________________________________\n",
            "flatten_1 (Flatten)          (None, 5880)              0         \n",
            "_________________________________________________________________\n",
            "dense_1 (Dense)              (None, 84)                494004    \n",
            "_________________________________________________________________\n",
            "dense_2 (Dense)              (None, 10)                850       \n",
            "=================================================================\n",
            "Total params: 545,546\n",
            "Trainable params: 545,546\n",
            "Non-trainable params: 0\n",
            "_________________________________________________________________\n"
          ],
          "name": "stdout"
        }
      ]
    },
    {
      "cell_type": "code",
      "metadata": {
        "id": "r0y410d6Py2L",
        "colab_type": "code",
        "colab": {}
      },
      "source": [
        "\n",
        "learning_rate_reduction = ReduceLROnPlateau(monitor='val_loss', \n",
        "                                            patience=3, \n",
        "                                            verbose=1, \n",
        "                                            factor=0.5, \n",
        "                                            min_lr=0.1)"
      ],
      "execution_count": 0,
      "outputs": []
    },
    {
      "cell_type": "code",
      "metadata": {
        "id": "JW0hTWObPy2O",
        "colab_type": "code",
        "colab": {}
      },
      "source": [
        "\n",
        "epochs = 30\n",
        "\n",
        "\n",
        "batch_size = 86"
      ],
      "execution_count": 0,
      "outputs": []
    },
    {
      "cell_type": "code",
      "metadata": {
        "id": "UV9pfpRKPy2S",
        "colab_type": "code",
        "colab": {}
      },
      "source": [
        "\n",
        "datagen = ImageDataGenerator(\n",
        "        featurewise_center=False,  \n",
        "        samplewise_center=False,  \n",
        "        featurewise_std_normalization=False,    \n",
        "        samplewise_std_normalization=False,  \n",
        "        zca_whitening=False,  \n",
        "        rotation_range=10,  \n",
        "        zoom_range = 0.1, \n",
        "        width_shift_range=0.1,  \n",
        "        height_shift_range=0.1,  \n",
        "        horizontal_flip=False,  \n",
        "        vertical_flip=False)  \n",
        "\n",
        "\n",
        "datagen.fit(X_train)"
      ],
      "execution_count": 0,
      "outputs": []
    },
    {
      "cell_type": "code",
      "metadata": {
        "id": "jWwGonkuPy2W",
        "colab_type": "code",
        "outputId": "a6076e7e-4d65-4434-843e-1557a8afdf0a",
        "colab": {
          "base_uri": "https://localhost:8080/",
          "height": 1000
        }
      },
      "source": [
        "\n",
        "history = model.fit_generator(datagen.flow(X_train,Y_train, batch_size=batch_size),\n",
        "                              epochs = epochs, validation_data = (X_val,Y_val),\n",
        "                              verbose = 2, steps_per_epoch=X_train.shape[0] // batch_size,\n",
        "                              callbacks=[learning_rate_reduction])"
      ],
      "execution_count": 15,
      "outputs": [
        {
          "output_type": "stream",
          "text": [
            "Epoch 1/30\n",
            " - 13s - loss: 1.7182 - accuracy: 0.4309 - val_loss: 0.5764 - val_accuracy: 0.8240\n",
            "Epoch 2/30\n",
            " - 7s - loss: 0.6736 - accuracy: 0.7894 - val_loss: 0.2705 - val_accuracy: 0.9231\n",
            "Epoch 3/30\n",
            " - 7s - loss: 0.3780 - accuracy: 0.8856 - val_loss: 0.2163 - val_accuracy: 0.9368\n",
            "Epoch 4/30\n",
            " - 7s - loss: 0.2839 - accuracy: 0.9133 - val_loss: 0.1433 - val_accuracy: 0.9607\n",
            "Epoch 5/30\n",
            " - 7s - loss: 0.2280 - accuracy: 0.9316 - val_loss: 0.1366 - val_accuracy: 0.9617\n",
            "Epoch 6/30\n",
            " - 7s - loss: 0.2007 - accuracy: 0.9392 - val_loss: 0.1300 - val_accuracy: 0.9617\n",
            "Epoch 7/30\n",
            " - 7s - loss: 0.1749 - accuracy: 0.9458 - val_loss: 0.1077 - val_accuracy: 0.9702\n",
            "Epoch 8/30\n",
            " - 7s - loss: 0.1643 - accuracy: 0.9508 - val_loss: 0.0984 - val_accuracy: 0.9694\n",
            "Epoch 9/30\n",
            " - 7s - loss: 0.1500 - accuracy: 0.9543 - val_loss: 0.0856 - val_accuracy: 0.9749\n",
            "Epoch 10/30\n",
            " - 7s - loss: 0.1460 - accuracy: 0.9546 - val_loss: 0.0966 - val_accuracy: 0.9725\n",
            "Epoch 11/30\n",
            " - 7s - loss: 0.1352 - accuracy: 0.9587 - val_loss: 0.0904 - val_accuracy: 0.9727\n",
            "Epoch 12/30\n",
            " - 7s - loss: 0.1254 - accuracy: 0.9619 - val_loss: 0.0704 - val_accuracy: 0.9801\n",
            "Epoch 13/30\n",
            " - 7s - loss: 0.1185 - accuracy: 0.9640 - val_loss: 0.0735 - val_accuracy: 0.9765\n",
            "Epoch 14/30\n",
            " - 7s - loss: 0.1162 - accuracy: 0.9643 - val_loss: 0.0753 - val_accuracy: 0.9776\n",
            "Epoch 15/30\n",
            " - 7s - loss: 0.1080 - accuracy: 0.9665 - val_loss: 0.0685 - val_accuracy: 0.9777\n",
            "Epoch 16/30\n",
            " - 7s - loss: 0.1062 - accuracy: 0.9666 - val_loss: 0.0727 - val_accuracy: 0.9757\n",
            "Epoch 17/30\n",
            " - 7s - loss: 0.0986 - accuracy: 0.9698 - val_loss: 0.0718 - val_accuracy: 0.9770\n",
            "Epoch 18/30\n",
            " - 7s - loss: 0.0951 - accuracy: 0.9715 - val_loss: 0.0684 - val_accuracy: 0.9786\n",
            "Epoch 19/30\n",
            " - 7s - loss: 0.0942 - accuracy: 0.9713 - val_loss: 0.0636 - val_accuracy: 0.9817\n",
            "Epoch 20/30\n",
            " - 7s - loss: 0.0924 - accuracy: 0.9704 - val_loss: 0.0642 - val_accuracy: 0.9807\n",
            "Epoch 21/30\n",
            " - 7s - loss: 0.0903 - accuracy: 0.9725 - val_loss: 0.0648 - val_accuracy: 0.9801\n",
            "Epoch 22/30\n",
            " - 7s - loss: 0.0865 - accuracy: 0.9726 - val_loss: 0.0540 - val_accuracy: 0.9850\n",
            "Epoch 23/30\n",
            " - 7s - loss: 0.0860 - accuracy: 0.9736 - val_loss: 0.0551 - val_accuracy: 0.9830\n",
            "Epoch 24/30\n",
            " - 7s - loss: 0.0773 - accuracy: 0.9772 - val_loss: 0.0546 - val_accuracy: 0.9837\n",
            "Epoch 25/30\n",
            " - 7s - loss: 0.0821 - accuracy: 0.9738 - val_loss: 0.0590 - val_accuracy: 0.9829\n",
            "Epoch 26/30\n",
            " - 7s - loss: 0.0791 - accuracy: 0.9758 - val_loss: 0.0564 - val_accuracy: 0.9840\n",
            "Epoch 27/30\n",
            " - 7s - loss: 0.0773 - accuracy: 0.9764 - val_loss: 0.0545 - val_accuracy: 0.9835\n",
            "Epoch 28/30\n",
            " - 7s - loss: 0.0715 - accuracy: 0.9784 - val_loss: 0.0504 - val_accuracy: 0.9857\n",
            "Epoch 29/30\n",
            " - 7s - loss: 0.0728 - accuracy: 0.9762 - val_loss: 0.0503 - val_accuracy: 0.9852\n",
            "Epoch 30/30\n",
            " - 7s - loss: 0.0723 - accuracy: 0.9776 - val_loss: 0.0439 - val_accuracy: 0.9874\n"
          ],
          "name": "stdout"
        }
      ]
    },
    {
      "cell_type": "code",
      "metadata": {
        "id": "PCyWI0oIOq_1",
        "colab_type": "code",
        "outputId": "f0356d82-3754-4080-cdf1-94ab0d8ead80",
        "colab": {
          "base_uri": "https://localhost:8080/",
          "height": 297
        }
      },
      "source": [
        "\n",
        "# plotting the metrics\n",
        "fig = plt.figure()\n",
        "plt.subplot(2,1,1)\n",
        "plt.plot(history.history['accuracy'])\n",
        "plt.plot(history.history['val_accuracy'])\n",
        "plt.title('model accuracy')\n",
        "plt.ylabel('accuracy')\n",
        "plt.xlabel('epoch')\n",
        "plt.legend(['train', 'test'], loc='lower right')\n",
        "plt.subplot(2,1,2)\n",
        "plt.plot(history.history['loss'])\n",
        "plt.plot(history.history['val_loss'])\n",
        "plt.title('model loss')\n",
        "plt.ylabel('loss')\n",
        "plt.xlabel('epoch')\n",
        "plt.legend(['train', 'test'], loc='upper right')\n",
        "plt.tight_layout()\n"
      ],
      "execution_count": 16,
      "outputs": [
        {
          "output_type": "display_data",
          "data": {
            "image/png": "[encoded data removed]",
            "text/plain": [
              "<Figure size 432x288 with 2 Axes>"
            ]
          },
          "metadata": {
            "tags": [],
            "needs_background": "light"
          }
        }
      ]
    },
    {
      "cell_type": "code",
      "metadata": {
        "id": "AH0JOXLBPy2j",
        "colab_type": "code",
        "colab": {}
      },
      "source": [
        "\n",
        "results = model.predict(test)\n",
        "\n",
        "\n",
        "results = np.argmax(results,axis = 1)\n",
        "results = pd.Series(results,name=\"Label\")"
      ],
      "execution_count": 0,
      "outputs": []
    },
    {
      "cell_type": "code",
      "metadata": {
        "id": "xga5c6qNPy2m",
        "colab_type": "code",
        "colab": {}
      },
      "source": [
        "submission = pd.concat([pd.Series(range(1,28001),name = \"ImageId\"),results],axis = 1)\n",
        "\n",
        "\n",
        "submission.to_csv(\"hanuman.csv\",index=False)"
      ],
      "execution_count": 0,
      "outputs": []
    },
    {
      "cell_type": "code",
      "metadata": {
        "id": "kVV8bJzu0r8y",
        "colab_type": "code",
        "colab": {}
      },
      "source": [
        ""
      ],
      "execution_count": 0,
      "outputs": []
    }
  ]
}