{
  "nbformat": 4,
  "nbformat_minor": 0,
  "metadata": {
    "kernelspec": {
      "display_name": "Python 3",
      "language": "python",
      "name": "python3"
    },
    "language_info": {
      "codemirror_mode": {
        "name": "ipython",
        "version": 3
      },
      "file_extension": ".py",
      "mimetype": "text/x-python",
      "name": "python",
      "nbconvert_exporter": "python",
      "pygments_lexer": "ipython3",
      "version": "3.7.6"
    },
    "colab": {
      "name": "Digit Recognisation.ipynb",
      "provenance": [],
      "collapsed_sections": [],
      "include_colab_link": true
    },
    "accelerator": "GPU"
  },
  "cells": [
    {
      "cell_type": "markdown",
      "metadata": {
        "id": "view-in-github",
        "colab_type": "text"
      },
      "source": [
        "<a href=\"https://colab.research.google.com/github/krishnauttej/Digit-Recognisation/blob/master/Digit_Recognisation.ipynb\" target=\"_parent\"><img src=\"https://colab.research.google.com/assets/colab-badge.svg\" alt=\"Open In Colab\"/></a>"
      ]
    },
    {
      "cell_type": "code",
      "metadata": {
        "id": "xzWeJ9GcPy0_",
        "colab_type": "code",
        "colab": {}
      },
      "source": [
        "import pandas as pd\n",
        "import numpy as np\n",
        "import matplotlib.pyplot as plt\n",
        "import matplotlib.image as mpimg\n",
        "import seaborn as sns\n",
        "%matplotlib inline\n",
        "\n",
        "np.random.seed(2)\n",
        "\n",
        "from sklearn.model_selection import train_test_split\n",
        "from sklearn.metrics import confusion_matrix\n",
        "import itertools\n",
        "\n",
        "\n",
        "from keras.utils.np_utils import to_categorical\n",
        "from keras.models import Sequential\n",
        "from keras.layers import Dense, Dropout, Flatten, Conv2D, MaxPooling2D, BatchNormalization,AveragePooling2D\n",
        "from keras.optimizers import RMSprop,SGD\n",
        "from keras.preprocessing.image import ImageDataGenerator\n",
        "from keras.callbacks import ReduceLROnPlateau,EarlyStopping\n",
        "\n",
        "\n",
        "#sns.set(style='white', context='notebook', palette='deep')"
      ],
      "execution_count": 0,
      "outputs": []
    },
    {
      "cell_type": "code",
      "metadata": {
        "id": "dI98-2UhPy1L",
        "colab_type": "code",
        "colab": {}
      },
      "source": [
        "# import warnings\n",
        "# warnings.filterwarnings('ignore')"
      ],
      "execution_count": 0,
      "outputs": []
    },
    {
      "cell_type": "code",
      "metadata": {
        "id": "sdtvy_8EPy1S",
        "colab_type": "code",
        "colab": {}
      },
      "source": [
        "\n",
        "train = pd.read_csv(\"train.csv\")\n",
        "test = pd.read_csv(\"test.csv\")\n",
        "\n"
      ],
      "execution_count": 0,
      "outputs": []
    },
    {
      "cell_type": "code",
      "metadata": {
        "id": "bEYb80LbzeHs",
        "colab_type": "code",
        "colab": {
          "base_uri": "https://localhost:8080/",
          "height": 34
        },
        "outputId": "5db0dbc2-26e6-4561-928b-5c7410bc1035"
      },
      "source": [
        "test.shape"
      ],
      "execution_count": 5,
      "outputs": [
        {
          "output_type": "execute_result",
          "data": {
            "text/plain": [
              "(28000, 784)"
            ]
          },
          "metadata": {
            "tags": []
          },
          "execution_count": 5
        }
      ]
    },
    {
      "cell_type": "code",
      "metadata": {
        "id": "NhQCl12hPy1Z",
        "colab_type": "code",
        "outputId": "e38f0804-9d49-42f7-e3d5-11bd03352477",
        "colab": {
          "base_uri": "https://localhost:8080/",
          "height": 51
        }
      },
      "source": [
        "\n",
        "Y_train = train[\"label\"]\n",
        "print(Y_train.shape)\n",
        "\n",
        "\n",
        "\n",
        "X_train = train.drop(labels = [\"label\"],axis = 1) \n",
        "print(X_train.shape)\n",
        "\n",
        "\n",
        "\n",
        "\n",
        "\n",
        "\n",
        "\n"
      ],
      "execution_count": 6,
      "outputs": [
        {
          "output_type": "stream",
          "text": [
            "(42000,)\n",
            "(42000, 784)\n"
          ],
          "name": "stdout"
        }
      ]
    },
    {
      "cell_type": "code",
      "metadata": {
        "id": "dlnMHMaMPy1t",
        "colab_type": "code",
        "colab": {}
      },
      "source": [
        "\n",
        "X_train = X_train / 255.0\n",
        "test = test / 255.0"
      ],
      "execution_count": 0,
      "outputs": []
    },
    {
      "cell_type": "code",
      "metadata": {
        "scrolled": true,
        "id": "FkXeijdsPy1z",
        "colab_type": "code",
        "colab": {}
      },
      "source": [
        "\n",
        "X_train = X_train.values.reshape(-1,28,28,1)\n",
        "test = test.values.reshape(-1,28,28,1)\n"
      ],
      "execution_count": 0,
      "outputs": []
    },
    {
      "cell_type": "code",
      "metadata": {
        "id": "awHWXdSxPy13",
        "colab_type": "code",
        "outputId": "0879df99-9b10-4571-ef4a-aaf5c21d1aea",
        "colab": {
          "base_uri": "https://localhost:8080/",
          "height": 34
        }
      },
      "source": [
        "\n",
        "\n",
        "Y_train = to_categorical(Y_train, num_classes = 10)\n",
        "\n",
        "Y_train.shape"
      ],
      "execution_count": 9,
      "outputs": [
        {
          "output_type": "execute_result",
          "data": {
            "text/plain": [
              "(42000, 10)"
            ]
          },
          "metadata": {
            "tags": []
          },
          "execution_count": 9
        }
      ]
    },
    {
      "cell_type": "code",
      "metadata": {
        "id": "jXc-vzMUPy16",
        "colab_type": "code",
        "colab": {}
      },
      "source": [
        "\n",
        "random_seed = 2\n",
        "\n",
        "\n",
        "X_train, X_val, Y_train, Y_val = train_test_split(X_train, Y_train, test_size = 0.2, random_state=random_seed)"
      ],
      "execution_count": 0,
      "outputs": []
    },
    {
      "cell_type": "code",
      "metadata": {
        "id": "74KnJfXBIRsx",
        "colab_type": "code",
        "outputId": "48a7f4f8-9d63-4bec-ef25-3019c2d66600",
        "colab": {
          "base_uri": "https://localhost:8080/",
          "height": 425
        }
      },
      "source": [
        "model = Sequential()\n",
        "\n",
        "# C1 Convolutional Layer\n",
        "model.add(Conv2D(6, kernel_size=(5, 5), strides=(1, 1), activation='relu', input_shape=(28,28,1), padding=\"same\"))\n",
        "\n",
        "# S2 Pooling Layer\n",
        "model.add(AveragePooling2D(pool_size=(2, 2), strides=(1, 1), padding='valid'))\n",
        "\n",
        "# C3 Convolutional Layer\n",
        "model.add(Conv2D(16, kernel_size=(5, 5), strides=(1, 1), activation='relu', padding='valid'))\n",
        "\n",
        "# S4 Pooling Layer\n",
        "model.add(AveragePooling2D(pool_size=(2, 2), strides=(2, 2), padding='valid'))\n",
        "\n",
        "# C5 Fully Connected Convolutional Layer\n",
        "model.add(Conv2D(120, kernel_size=(5, 5), strides=(1, 1), activation='relu', padding='valid'))\n",
        "\n",
        "#Flatten the CNN output so that we can connect it with fully connected layers\n",
        "model.add(Flatten())\n",
        "\n",
        "# FC6 Fully Connected Layer\n",
        "model.add(Dense(84, activation='relu'))\n",
        "\n",
        "#Output Layer with softmax activation\n",
        "model.add(Dense(10, activation='softmax'))\n",
        "\n",
        "# Compile the model\n",
        "model.compile(loss='categorical_crossentropy', optimizer='SGD', metrics=[\"accuracy\"])\n",
        "\n",
        "model.summary()"
      ],
      "execution_count": 11,
      "outputs": [
        {
          "output_type": "stream",
          "text": [
            "Model: \"sequential_1\"\n",
            "_________________________________________________________________\n",
            "Layer (type)                 Output Shape              Param #   \n",
            "=================================================================\n",
            "conv2d_1 (Conv2D)            (None, 28, 28, 6)         156       \n",
            "_________________________________________________________________\n",
            "average_pooling2d_1 (Average (None, 27, 27, 6)         0         \n",
            "_________________________________________________________________\n",
            "conv2d_2 (Conv2D)            (None, 23, 23, 16)        2416      \n",
            "_________________________________________________________________\n",
            "average_pooling2d_2 (Average (None, 11, 11, 16)        0         \n",
            "_________________________________________________________________\n",
            "conv2d_3 (Conv2D)            (None, 7, 7, 120)         48120     \n",
            "_________________________________________________________________\n",
            "flatten_1 (Flatten)          (None, 5880)              0         \n",
            "_________________________________________________________________\n",
            "dense_1 (Dense)              (None, 84)                494004    \n",
            "_________________________________________________________________\n",
            "dense_2 (Dense)              (None, 10)                850       \n",
            "=================================================================\n",
            "Total params: 545,546\n",
            "Trainable params: 545,546\n",
            "Non-trainable params: 0\n",
            "_________________________________________________________________\n"
          ],
          "name": "stdout"
        }
      ]
    },
    {
      "cell_type": "code",
      "metadata": {
        "id": "rwO8xUkP2pX1",
        "colab_type": "code",
        "colab": {
          "base_uri": "https://localhost:8080/",
          "height": 425
        },
        "outputId": "e172acd5-5a5d-4e75-938d-ef413ef42422"
      },
      "source": [
        " model = Sequential()\n",
        " model.add(Conv2D(32, (3, 3), activation='relu', kernel_initializer='he_uniform', input_shape=(28, 28, 1)))\n",
        " model.add(MaxPooling2D((2, 2)))\n",
        " model.add(Conv2D(64, (3, 3), activation='relu', kernel_initializer='he_uniform'))\n",
        " model.add(Conv2D(64, (3, 3), activation='relu', kernel_initializer='he_uniform'))\n",
        " model.add(MaxPooling2D((2, 2)))\n",
        " model.add(Flatten())\n",
        " model.add(Dense(100, activation='relu', kernel_initializer='he_uniform'))\n",
        " model.add(Dense(10, activation='softmax'))\n",
        "\t# compile model\n",
        " opt = SGD(lr=0.01, momentum=0.9)\n",
        " model.compile(optimizer=opt, loss='categorical_crossentropy', metrics=['accuracy'])\n",
        " model.summary()"
      ],
      "execution_count": 24,
      "outputs": [
        {
          "output_type": "stream",
          "text": [
            "Model: \"sequential_3\"\n",
            "_________________________________________________________________\n",
            "Layer (type)                 Output Shape              Param #   \n",
            "=================================================================\n",
            "conv2d_7 (Conv2D)            (None, 26, 26, 32)        320       \n",
            "_________________________________________________________________\n",
            "max_pooling2d_3 (MaxPooling2 (None, 13, 13, 32)        0         \n",
            "_________________________________________________________________\n",
            "conv2d_8 (Conv2D)            (None, 11, 11, 64)        18496     \n",
            "_________________________________________________________________\n",
            "conv2d_9 (Conv2D)            (None, 9, 9, 64)          36928     \n",
            "_________________________________________________________________\n",
            "max_pooling2d_4 (MaxPooling2 (None, 4, 4, 64)          0         \n",
            "_________________________________________________________________\n",
            "flatten_3 (Flatten)          (None, 1024)              0         \n",
            "_________________________________________________________________\n",
            "dense_5 (Dense)              (None, 100)               102500    \n",
            "_________________________________________________________________\n",
            "dense_6 (Dense)              (None, 10)                1010      \n",
            "=================================================================\n",
            "Total params: 159,254\n",
            "Trainable params: 159,254\n",
            "Non-trainable params: 0\n",
            "_________________________________________________________________\n"
          ],
          "name": "stdout"
        }
      ]
    },
    {
      "cell_type": "code",
      "metadata": {
        "id": "r0y410d6Py2L",
        "colab_type": "code",
        "colab": {}
      },
      "source": [
        "\n",
        "learning_rate_reduction = ReduceLROnPlateau(monitor='val_loss', \n",
        "                                            patience=3, \n",
        "                                            verbose=1, \n",
        "                                            factor=0.5, \n",
        "                                            min_lr=0.1)"
      ],
      "execution_count": 0,
      "outputs": []
    },
    {
      "cell_type": "code",
      "metadata": {
        "id": "JW0hTWObPy2O",
        "colab_type": "code",
        "colab": {}
      },
      "source": [
        "\n",
        "epochs = 30\n",
        "\n",
        "\n",
        "batch_size = 86"
      ],
      "execution_count": 0,
      "outputs": []
    },
    {
      "cell_type": "code",
      "metadata": {
        "id": "UV9pfpRKPy2S",
        "colab_type": "code",
        "colab": {}
      },
      "source": [
        "\n",
        "datagen = ImageDataGenerator(\n",
        "        featurewise_center=False,  \n",
        "        samplewise_center=False,  \n",
        "        featurewise_std_normalization=False,    \n",
        "        samplewise_std_normalization=False,  \n",
        "        zca_whitening=False,  \n",
        "        rotation_range=10,  \n",
        "        zoom_range = 0.1, \n",
        "        width_shift_range=0.1,  \n",
        "        height_shift_range=0.1,  \n",
        "        horizontal_flip=False,  \n",
        "        vertical_flip=False)  \n",
        "\n",
        "\n",
        "datagen.fit(X_train)"
      ],
      "execution_count": 0,
      "outputs": []
    },
    {
      "cell_type": "code",
      "metadata": {
        "id": "jWwGonkuPy2W",
        "colab_type": "code",
        "outputId": "de47cc33-9466-47f1-bf15-56b1e4bbd217",
        "colab": {
          "base_uri": "https://localhost:8080/",
          "height": 1000
        }
      },
      "source": [
        "\n",
        "history = model.fit_generator(datagen.flow(X_train,Y_train, batch_size=batch_size),\n",
        "                              epochs = epochs, validation_data = (X_val,Y_val),\n",
        "                              verbose = 2, steps_per_epoch=X_train.shape[0] // batch_size,\n",
        "                              callbacks=[learning_rate_reduction])"
      ],
      "execution_count": 28,
      "outputs": [
        {
          "output_type": "stream",
          "text": [
            "Epoch 1/30\n",
            " - 7s - loss: 0.4902 - accuracy: 0.8415 - val_loss: 0.1219 - val_accuracy: 0.9654\n",
            "Epoch 2/30\n",
            " - 7s - loss: 0.1487 - accuracy: 0.9526 - val_loss: 0.0838 - val_accuracy: 0.9725\n",
            "Epoch 3/30\n",
            " - 7s - loss: 0.1097 - accuracy: 0.9667 - val_loss: 0.0533 - val_accuracy: 0.9826\n",
            "Epoch 4/30\n",
            " - 7s - loss: 0.0904 - accuracy: 0.9714 - val_loss: 0.0560 - val_accuracy: 0.9810\n",
            "Epoch 5/30\n",
            " - 7s - loss: 0.0792 - accuracy: 0.9764 - val_loss: 0.0439 - val_accuracy: 0.9857\n",
            "Epoch 6/30\n",
            " - 7s - loss: 0.0699 - accuracy: 0.9787 - val_loss: 0.0366 - val_accuracy: 0.9888\n",
            "Epoch 7/30\n",
            " - 7s - loss: 0.0617 - accuracy: 0.9808 - val_loss: 0.0334 - val_accuracy: 0.9889\n",
            "Epoch 8/30\n",
            " - 7s - loss: 0.0599 - accuracy: 0.9816 - val_loss: 0.0352 - val_accuracy: 0.9894\n",
            "Epoch 9/30\n",
            " - 7s - loss: 0.0562 - accuracy: 0.9821 - val_loss: 0.0389 - val_accuracy: 0.9881\n",
            "Epoch 10/30\n",
            " - 7s - loss: 0.0532 - accuracy: 0.9838 - val_loss: 0.0368 - val_accuracy: 0.9880\n",
            "Epoch 11/30\n",
            " - 7s - loss: 0.0507 - accuracy: 0.9842 - val_loss: 0.0411 - val_accuracy: 0.9876\n",
            "Epoch 12/30\n",
            " - 7s - loss: 0.0453 - accuracy: 0.9861 - val_loss: 0.0297 - val_accuracy: 0.9910\n",
            "Epoch 13/30\n",
            " - 7s - loss: 0.0429 - accuracy: 0.9863 - val_loss: 0.0273 - val_accuracy: 0.9917\n",
            "Epoch 14/30\n",
            " - 7s - loss: 0.0405 - accuracy: 0.9872 - val_loss: 0.0429 - val_accuracy: 0.9874\n",
            "Epoch 15/30\n",
            " - 7s - loss: 0.0390 - accuracy: 0.9878 - val_loss: 0.0337 - val_accuracy: 0.9895\n",
            "Epoch 16/30\n",
            " - 7s - loss: 0.0405 - accuracy: 0.9873 - val_loss: 0.0387 - val_accuracy: 0.9885\n",
            "Epoch 17/30\n",
            " - 7s - loss: 0.0362 - accuracy: 0.9890 - val_loss: 0.0319 - val_accuracy: 0.9898\n",
            "Epoch 18/30\n",
            " - 7s - loss: 0.0359 - accuracy: 0.9887 - val_loss: 0.0271 - val_accuracy: 0.9926\n",
            "Epoch 19/30\n",
            " - 7s - loss: 0.0353 - accuracy: 0.9883 - val_loss: 0.0315 - val_accuracy: 0.9906\n",
            "Epoch 20/30\n",
            " - 7s - loss: 0.0332 - accuracy: 0.9901 - val_loss: 0.0292 - val_accuracy: 0.9906\n",
            "Epoch 21/30\n",
            " - 7s - loss: 0.0328 - accuracy: 0.9892 - val_loss: 0.0331 - val_accuracy: 0.9899\n",
            "Epoch 22/30\n",
            " - 7s - loss: 0.0301 - accuracy: 0.9902 - val_loss: 0.0297 - val_accuracy: 0.9915\n",
            "Epoch 23/30\n",
            " - 7s - loss: 0.0317 - accuracy: 0.9901 - val_loss: 0.0327 - val_accuracy: 0.9902\n",
            "Epoch 24/30\n",
            " - 7s - loss: 0.0292 - accuracy: 0.9904 - val_loss: 0.0283 - val_accuracy: 0.9921\n",
            "Epoch 25/30\n",
            " - 7s - loss: 0.0286 - accuracy: 0.9913 - val_loss: 0.0293 - val_accuracy: 0.9917\n",
            "Epoch 26/30\n",
            " - 7s - loss: 0.0275 - accuracy: 0.9915 - val_loss: 0.0253 - val_accuracy: 0.9931\n",
            "Epoch 27/30\n",
            " - 7s - loss: 0.0265 - accuracy: 0.9916 - val_loss: 0.0256 - val_accuracy: 0.9918\n",
            "Epoch 28/30\n",
            " - 7s - loss: 0.0280 - accuracy: 0.9911 - val_loss: 0.0319 - val_accuracy: 0.9915\n",
            "Epoch 29/30\n",
            " - 7s - loss: 0.0265 - accuracy: 0.9918 - val_loss: 0.0263 - val_accuracy: 0.9926\n",
            "Epoch 30/30\n",
            " - 7s - loss: 0.0269 - accuracy: 0.9918 - val_loss: 0.0250 - val_accuracy: 0.9925\n"
          ],
          "name": "stdout"
        }
      ]
    },
    {
      "cell_type": "code",
      "metadata": {
        "id": "PCyWI0oIOq_1",
        "colab_type": "code",
        "outputId": "e837f838-a3d5-4757-cd23-53ca1ff8f631",
        "colab": {
          "base_uri": "https://localhost:8080/",
          "height": 297
        }
      },
      "source": [
        "\n",
        "# plotting the metrics\n",
        "fig = plt.figure()\n",
        "plt.subplot(2,1,1)\n",
        "plt.plot(history.history['accuracy'])\n",
        "plt.plot(history.history['val_accuracy'])\n",
        "plt.title('model accuracy')\n",
        "plt.ylabel('accuracy')\n",
        "plt.xlabel('epoch')\n",
        "plt.legend(['train', 'test'], loc='lower right')\n",
        "plt.subplot(2,1,2)\n",
        "plt.plot(history.history['loss'])\n",
        "plt.plot(history.history['val_loss'])\n",
        "plt.title('model loss')\n",
        "plt.ylabel('loss')\n",
        "plt.xlabel('epoch')\n",
        "plt.legend(['train', 'test'], loc='upper right')\n",
        "plt.tight_layout()\n"
      ],
      "execution_count": 29,
      "outputs": [
        {
          "output_type": "display_data",
          "data": {
            "image/png": "[encoded data removed]",
            "text/plain": [
              "<Figure size 432x288 with 2 Axes>"
            ]
          },
          "metadata": {
            "tags": [],
            "needs_background": "light"
          }
        }
      ]
    },
    {
      "cell_type": "code",
      "metadata": {
        "id": "ws6jmhJx2mnO",
        "colab_type": "code",
        "colab": {}
      },
      "source": [
        ""
      ],
      "execution_count": 0,
      "outputs": []
    },
    {
      "cell_type": "code",
      "metadata": {
        "id": "AH0JOXLBPy2j",
        "colab_type": "code",
        "colab": {}
      },
      "source": [
        "\n",
        "results = model.predict(test)\n",
        "\n",
        "\n",
        "results = np.argmax(results,axis = 1)\n",
        "results = pd.Series(results,name=\"Label\")"
      ],
      "execution_count": 0,
      "outputs": []
    },
    {
      "cell_type": "code",
      "metadata": {
        "id": "xga5c6qNPy2m",
        "colab_type": "code",
        "colab": {}
      },
      "source": [
        "submission = pd.concat([pd.Series(range(1,28001),name = \"ImageId\"),results],axis = 1)\n",
        "\n",
        "\n",
        "submission.to_csv(\"krishna.csv\",index=False)"
      ],
      "execution_count": 0,
      "outputs": []
    },
    {
      "cell_type": "code",
      "metadata": {
        "id": "kVV8bJzu0r8y",
        "colab_type": "code",
        "colab": {}
      },
      "source": [
        ""
      ],
      "execution_count": 0,
      "outputs": []
    }
  ]
}