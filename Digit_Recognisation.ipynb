{
  "nbformat": 4,
  "nbformat_minor": 0,
  "metadata": {
    "kernelspec": {
      "display_name": "Python 3",
      "language": "python",
      "name": "python3"
    },
    "language_info": {
      "codemirror_mode": {
        "name": "ipython",
        "version": 3
      },
      "file_extension": ".py",
      "mimetype": "text/x-python",
      "name": "python",
      "nbconvert_exporter": "python",
      "pygments_lexer": "ipython3",
      "version": "3.7.6"
    },
    "colab": {
      "name": "Digit Recognisation.ipynb",
      "provenance": [],
      "collapsed_sections": [],
      "include_colab_link": true
    },
    "accelerator": "GPU"
  },
  "cells": [
    {
      "cell_type": "markdown",
      "metadata": {
        "id": "view-in-github",
        "colab_type": "text"
      },
      "source": [
        "<a href=\"https://colab.research.google.com/github/krishnauttej/Digit-Recognisation/blob/master/Digit_Recognisation.ipynb\" target=\"_parent\"><img src=\"https://colab.research.google.com/assets/colab-badge.svg\" alt=\"Open In Colab\"/></a>"
      ]
    },
    {
      "cell_type": "code",
      "metadata": {
        "id": "xzWeJ9GcPy0_",
        "colab_type": "code",
        "colab": {}
      },
      "source": [
        "import pandas as pd\n",
        "import numpy as np\n",
        "import matplotlib.pyplot as plt\n",
        "import matplotlib.image as mpimg\n",
        "import seaborn as sns\n",
        "%matplotlib inline\n",
        "\n",
        "np.random.seed(2)\n",
        "\n",
        "from sklearn.model_selection import train_test_split\n",
        "from sklearn.metrics import confusion_matrix\n",
        "import itertools\n",
        "\n",
        "\n",
        "from keras.utils.np_utils import to_categorical\n",
        "from keras.models import Sequential\n",
        "from keras.layers import Dense, Dropout, Flatten, Conv2D, MaxPool2D, BatchNormalization,AveragePooling2D\n",
        "from keras.optimizers import RMSprop\n",
        "from keras.preprocessing.image import ImageDataGenerator\n",
        "from keras.callbacks import ReduceLROnPlateau,EarlyStopping\n",
        "\n",
        "\n",
        "sns.set(style='white', context='notebook', palette='deep')"
      ],
      "execution_count": 0,
      "outputs": []
    },
    {
      "cell_type": "code",
      "metadata": {
        "id": "dI98-2UhPy1L",
        "colab_type": "code",
        "colab": {}
      },
      "source": [
        "# import warnings\n",
        "# warnings.filterwarnings('ignore')"
      ],
      "execution_count": 0,
      "outputs": []
    },
    {
      "cell_type": "code",
      "metadata": {
        "id": "sdtvy_8EPy1S",
        "colab_type": "code",
        "colab": {}
      },
      "source": [
        "\n",
        "train = pd.read_csv(\"train.csv\")\n",
        "test = pd.read_csv(\"test.csv\")"
      ],
      "execution_count": 0,
      "outputs": []
    },
    {
      "cell_type": "code",
      "metadata": {
        "id": "NhQCl12hPy1Z",
        "colab_type": "code",
        "outputId": "f0e588ac-add8-4b17-958a-bc5305aab5db",
        "colab": {
          "base_uri": "https://localhost:8080/",
          "height": 51
        }
      },
      "source": [
        "\n",
        "Y_train = train[\"label\"]\n",
        "print(Y_train.shape)\n",
        "\n",
        "\n",
        "\n",
        "X_train = train.drop(labels = [\"label\"],axis = 1) \n",
        "print(X_train.shape)\n",
        "\n",
        "\n",
        "\n",
        "\n",
        "\n",
        "\n",
        "\n"
      ],
      "execution_count": 3,
      "outputs": [
        {
          "output_type": "stream",
          "text": [
            "(4011,)\n",
            "(4011, 784)\n"
          ],
          "name": "stdout"
        }
      ]
    },
    {
      "cell_type": "code",
      "metadata": {
        "id": "sQeSISJ_DRJ9",
        "colab_type": "code",
        "colab": {}
      },
      "source": [
        "mean_px = X_train.mean().astype(np.float32)\n",
        "std_px = X_train.std().astype(np.float32)\n",
        "\n",
        "def standardize(x): \n",
        "    return (x-mean_px)/std_px"
      ],
      "execution_count": 0,
      "outputs": []
    },
    {
      "cell_type": "code",
      "metadata": {
        "id": "lRQULMchPy1g",
        "colab_type": "code",
        "outputId": "c1d79145-60e3-4c66-f993-e202163d0ff6",
        "colab": {
          "base_uri": "https://localhost:8080/",
          "height": 102
        }
      },
      "source": [
        "\n",
        "X_train.isnull().any().describe()"
      ],
      "execution_count": 5,
      "outputs": [
        {
          "output_type": "execute_result",
          "data": {
            "text/plain": [
              "count       784\n",
              "unique        2\n",
              "top       False\n",
              "freq        624\n",
              "dtype: object"
            ]
          },
          "metadata": {
            "tags": []
          },
          "execution_count": 5
        }
      ]
    },
    {
      "cell_type": "code",
      "metadata": {
        "id": "JOVOQX_3Py1n",
        "colab_type": "code",
        "outputId": "2c50af75-1783-40b1-e19f-3195a67b0e08",
        "colab": {
          "base_uri": "https://localhost:8080/",
          "height": 102
        }
      },
      "source": [
        "test.isnull().any().describe()"
      ],
      "execution_count": 6,
      "outputs": [
        {
          "output_type": "execute_result",
          "data": {
            "text/plain": [
              "count       784\n",
              "unique        2\n",
              "top       False\n",
              "freq        415\n",
              "dtype: object"
            ]
          },
          "metadata": {
            "tags": []
          },
          "execution_count": 6
        }
      ]
    },
    {
      "cell_type": "code",
      "metadata": {
        "id": "dlnMHMaMPy1t",
        "colab_type": "code",
        "colab": {}
      },
      "source": [
        "\n",
        "X_train = X_train / 255.0\n",
        "test = test / 255.0"
      ],
      "execution_count": 0,
      "outputs": []
    },
    {
      "cell_type": "code",
      "metadata": {
        "scrolled": true,
        "id": "FkXeijdsPy1z",
        "colab_type": "code",
        "colab": {}
      },
      "source": [
        "\n",
        "X_train = X_train.values.reshape(-1,28,28,1)\n",
        "test = test.values.reshape(-1,28,28,1)\n"
      ],
      "execution_count": 0,
      "outputs": []
    },
    {
      "cell_type": "code",
      "metadata": {
        "id": "awHWXdSxPy13",
        "colab_type": "code",
        "colab": {
          "base_uri": "https://localhost:8080/",
          "height": 34
        },
        "outputId": "80520b47-b08e-4d7e-d04d-38335799a6e5"
      },
      "source": [
        "\n",
        "\n",
        "Y_train = to_categorical(Y_train, num_classes = 10)\n",
        "\n",
        "Y_train.shape"
      ],
      "execution_count": 6,
      "outputs": [
        {
          "output_type": "execute_result",
          "data": {
            "text/plain": [
              "(4011, 10)"
            ]
          },
          "metadata": {
            "tags": []
          },
          "execution_count": 6
        }
      ]
    },
    {
      "cell_type": "code",
      "metadata": {
        "id": "jXc-vzMUPy16",
        "colab_type": "code",
        "colab": {}
      },
      "source": [
        "\n",
        "random_seed = 2\n",
        "\n",
        "\n",
        "X_train, X_val, Y_train, Y_val = train_test_split(X_train, Y_train, test_size = 0.2, random_state=random_seed)"
      ],
      "execution_count": 0,
      "outputs": []
    },
    {
      "cell_type": "code",
      "metadata": {
        "id": "P2VkBs-nAabL",
        "colab_type": "code",
        "colab": {
          "base_uri": "https://localhost:8080/",
          "height": 285
        },
        "outputId": "33428cd1-14a6-4b7c-be2d-64d760f5734d"
      },
      "source": [
        "plt.imshow(X_train[0][:,:,0])"
      ],
      "execution_count": 8,
      "outputs": [
        {
          "output_type": "execute_result",
          "data": {
            "text/plain": [
              "<matplotlib.image.AxesImage at 0x7fae0a6eb1d0>"
            ]
          },
          "metadata": {
            "tags": []
          },
          "execution_count": 8
        },
        {
          "output_type": "display_data",
          "data": {
            "image/png": "[encoded data removed]",
            "text/plain": [
              "<Figure size 432x288 with 1 Axes>"
            ]
          },
          "metadata": {
            "tags": [],
            "needs_background": "light"
          }
        }
      ]
    },
    {
      "cell_type": "code",
      "metadata": {
        "id": "74KnJfXBIRsx",
        "colab_type": "code",
        "colab": {
          "base_uri": "https://localhost:8080/",
          "height": 425
        },
        "outputId": "1617fb71-063b-4881-b595-811a2880bca2"
      },
      "source": [
        "model = Sequential()\n",
        "\n",
        "# C1 Convolutional Layer\n",
        "model.add(Conv2D(6, kernel_size=(5, 5), strides=(1, 1), activation='relu', input_shape=(28,28,1), padding=\"same\"))\n",
        "\n",
        "# S2 Pooling Layer\n",
        "model.add(AveragePooling2D(pool_size=(2, 2), strides=(1, 1), padding='valid'))\n",
        "\n",
        "# C3 Convolutional Layer\n",
        "model.add(Conv2D(16, kernel_size=(5, 5), strides=(1, 1), activation='relu', padding='valid'))\n",
        "\n",
        "# S4 Pooling Layer\n",
        "model.add(AveragePooling2D(pool_size=(2, 2), strides=(2, 2), padding='valid'))\n",
        "\n",
        "# C5 Fully Connected Convolutional Layer\n",
        "model.add(Conv2D(120, kernel_size=(5, 5), strides=(1, 1), activation='relu', padding='valid'))\n",
        "\n",
        "#Flatten the CNN output so that we can connect it with fully connected layers\n",
        "model.add(Flatten())\n",
        "\n",
        "# FC6 Fully Connected Layer\n",
        "model.add(Dense(84, activation='relu'))\n",
        "\n",
        "#Output Layer with softmax activation\n",
        "model.add(Dense(10, activation='softmax'))\n",
        "\n",
        "# Compile the model\n",
        "model.compile(loss='categorical_crossentropy', optimizer='SGD', metrics=[\"accuracy\"])\n",
        "\n",
        "model.summary()"
      ],
      "execution_count": 45,
      "outputs": [
        {
          "output_type": "stream",
          "text": [
            "Model: \"sequential_5\"\n",
            "_________________________________________________________________\n",
            "Layer (type)                 Output Shape              Param #   \n",
            "=================================================================\n",
            "conv2d_13 (Conv2D)           (None, 28, 28, 6)         156       \n",
            "_________________________________________________________________\n",
            "average_pooling2d_9 (Average (None, 27, 27, 6)         0         \n",
            "_________________________________________________________________\n",
            "conv2d_14 (Conv2D)           (None, 23, 23, 16)        2416      \n",
            "_________________________________________________________________\n",
            "average_pooling2d_10 (Averag (None, 11, 11, 16)        0         \n",
            "_________________________________________________________________\n",
            "conv2d_15 (Conv2D)           (None, 7, 7, 120)         48120     \n",
            "_________________________________________________________________\n",
            "flatten_5 (Flatten)          (None, 5880)              0         \n",
            "_________________________________________________________________\n",
            "dense_9 (Dense)              (None, 84)                494004    \n",
            "_________________________________________________________________\n",
            "dense_10 (Dense)             (None, 10)                850       \n",
            "=================================================================\n",
            "Total params: 545,546\n",
            "Trainable params: 545,546\n",
            "Non-trainable params: 0\n",
            "_________________________________________________________________\n"
          ],
          "name": "stdout"
        }
      ]
    },
    {
      "cell_type": "code",
      "metadata": {
        "id": "r0y410d6Py2L",
        "colab_type": "code",
        "colab": {}
      },
      "source": [
        "\n",
        "learning_rate_reduction = ReduceLROnPlateau(monitor='val_loss', \n",
        "                                            patience=3, \n",
        "                                            verbose=1, \n",
        "                                            factor=0.5, \n",
        "                                            min_lr=0.1)"
      ],
      "execution_count": 0,
      "outputs": []
    },
    {
      "cell_type": "code",
      "metadata": {
        "id": "zzN55_GFMwRH",
        "colab_type": "code",
        "colab": {}
      },
      "source": [
        "early=EarlyStopping(patience=5)\n"
      ],
      "execution_count": 0,
      "outputs": []
    },
    {
      "cell_type": "code",
      "metadata": {
        "id": "JW0hTWObPy2O",
        "colab_type": "code",
        "colab": {}
      },
      "source": [
        "\n",
        "epochs = 30\n",
        "\n",
        "\n",
        "batch_size = 86"
      ],
      "execution_count": 0,
      "outputs": []
    },
    {
      "cell_type": "code",
      "metadata": {
        "id": "UV9pfpRKPy2S",
        "colab_type": "code",
        "colab": {}
      },
      "source": [
        "\n",
        "datagen = ImageDataGenerator(\n",
        "        featurewise_center=False,  \n",
        "        samplewise_center=False,  \n",
        "        featurewise_std_normalization=False,    \n",
        "        samplewise_std_normalization=False,  \n",
        "        zca_whitening=False,  \n",
        "        rotation_range=10,  \n",
        "        zoom_range = 0.1, \n",
        "        width_shift_range=0.1,  \n",
        "        height_shift_range=0.1,  \n",
        "        horizontal_flip=False,  \n",
        "        vertical_flip=False)  \n",
        "\n",
        "\n",
        "datagen.fit(X_train)"
      ],
      "execution_count": 0,
      "outputs": []
    },
    {
      "cell_type": "code",
      "metadata": {
        "id": "jWwGonkuPy2W",
        "colab_type": "code",
        "outputId": "c8cc90cd-af60-4369-90f2-fb29b30e245b",
        "colab": {
          "base_uri": "https://localhost:8080/",
          "height": 1000
        }
      },
      "source": [
        "\n",
        "history = model.fit_generator(datagen.flow(X_train,Y_train, batch_size=batch_size),\n",
        "                              epochs = epochs, validation_data = (X_val,Y_val),\n",
        "                              verbose = 2, steps_per_epoch=X_train.shape[0] // batch_size,\n",
        "                              callbacks=[learning_rate_reduction])"
      ],
      "execution_count": 33,
      "outputs": [
        {
          "output_type": "stream",
          "text": [
            "Epoch 1/30\n",
            " - 1s - loss: 2.2893 - accuracy: 0.1842 - val_loss: 2.2588 - val_accuracy: 0.3225\n",
            "Epoch 2/30\n",
            " - 1s - loss: 2.2509 - accuracy: 0.2828 - val_loss: 2.1717 - val_accuracy: 0.4147\n",
            "Epoch 3/30\n",
            " - 1s - loss: 2.1294 - accuracy: 0.3430 - val_loss: 1.8009 - val_accuracy: 0.6177\n",
            "Epoch 4/30\n",
            " - 1s - loss: 1.7439 - accuracy: 0.4542 - val_loss: 1.2134 - val_accuracy: 0.6289\n",
            "Epoch 5/30\n",
            " - 1s - loss: 1.4692 - accuracy: 0.5204 - val_loss: 0.9023 - val_accuracy: 0.7024\n",
            "Epoch 6/30\n",
            " - 1s - loss: 1.3387 - accuracy: 0.5552 - val_loss: 0.7446 - val_accuracy: 0.7846\n",
            "Epoch 7/30\n",
            " - 1s - loss: 1.2183 - accuracy: 0.6022 - val_loss: 0.6714 - val_accuracy: 0.7995\n",
            "Epoch 8/30\n",
            " - 1s - loss: 1.0942 - accuracy: 0.6395 - val_loss: 0.5592 - val_accuracy: 0.8493\n",
            "Epoch 9/30\n",
            " - 1s - loss: 0.9654 - accuracy: 0.6937 - val_loss: 0.5401 - val_accuracy: 0.8593\n",
            "Epoch 10/30\n",
            " - 1s - loss: 0.8678 - accuracy: 0.7309 - val_loss: 0.5137 - val_accuracy: 0.8468\n",
            "Epoch 11/30\n",
            " - 1s - loss: 0.8268 - accuracy: 0.7434 - val_loss: 0.4262 - val_accuracy: 0.8892\n",
            "Epoch 12/30\n",
            " - 1s - loss: 0.7353 - accuracy: 0.7707 - val_loss: 0.4405 - val_accuracy: 0.8680\n",
            "Epoch 13/30\n",
            " - 1s - loss: 0.7180 - accuracy: 0.7739 - val_loss: 0.6773 - val_accuracy: 0.7472\n",
            "Epoch 14/30\n",
            " - 1s - loss: 0.6472 - accuracy: 0.8017 - val_loss: 0.3439 - val_accuracy: 0.9078\n",
            "Epoch 15/30\n",
            " - 1s - loss: 0.6389 - accuracy: 0.8070 - val_loss: 0.3571 - val_accuracy: 0.8991\n",
            "Epoch 16/30\n",
            " - 1s - loss: 0.5492 - accuracy: 0.8360 - val_loss: 0.3721 - val_accuracy: 0.8618\n",
            "Epoch 17/30\n",
            " - 1s - loss: 0.5173 - accuracy: 0.8392 - val_loss: 0.3006 - val_accuracy: 0.9166\n",
            "Epoch 18/30\n",
            " - 1s - loss: 0.4976 - accuracy: 0.8426 - val_loss: 0.2956 - val_accuracy: 0.9066\n",
            "Epoch 19/30\n",
            " - 1s - loss: 0.4945 - accuracy: 0.8447 - val_loss: 0.3009 - val_accuracy: 0.9066\n",
            "Epoch 20/30\n",
            " - 1s - loss: 0.4447 - accuracy: 0.8639 - val_loss: 0.3223 - val_accuracy: 0.8979\n",
            "Epoch 21/30\n",
            " - 1s - loss: 0.4273 - accuracy: 0.8748 - val_loss: 0.2394 - val_accuracy: 0.9315\n",
            "Epoch 22/30\n",
            " - 1s - loss: 0.3930 - accuracy: 0.8812 - val_loss: 0.2480 - val_accuracy: 0.9377\n",
            "Epoch 23/30\n",
            " - 1s - loss: 0.3684 - accuracy: 0.8880 - val_loss: 0.3041 - val_accuracy: 0.9091\n",
            "Epoch 24/30\n",
            " - 1s - loss: 0.3688 - accuracy: 0.8862 - val_loss: 0.2651 - val_accuracy: 0.9265\n",
            "Epoch 25/30\n",
            " - 1s - loss: 0.3899 - accuracy: 0.8847 - val_loss: 0.2534 - val_accuracy: 0.9365\n",
            "Epoch 26/30\n",
            " - 1s - loss: 0.3620 - accuracy: 0.8921 - val_loss: 0.2030 - val_accuracy: 0.9465\n",
            "Epoch 27/30\n",
            " - 1s - loss: 0.3060 - accuracy: 0.9035 - val_loss: 0.2472 - val_accuracy: 0.9240\n",
            "Epoch 28/30\n",
            " - 1s - loss: 0.3191 - accuracy: 0.9059 - val_loss: 0.1947 - val_accuracy: 0.9390\n",
            "Epoch 29/30\n",
            " - 1s - loss: 0.2932 - accuracy: 0.9073 - val_loss: 0.1995 - val_accuracy: 0.9415\n",
            "Epoch 30/30\n",
            " - 1s - loss: 0.2829 - accuracy: 0.9103 - val_loss: 0.1952 - val_accuracy: 0.9440\n"
          ],
          "name": "stdout"
        }
      ]
    },
    {
      "cell_type": "code",
      "metadata": {
        "id": "PCyWI0oIOq_1",
        "colab_type": "code",
        "colab": {
          "base_uri": "https://localhost:8080/",
          "height": 293
        },
        "outputId": "903b4559-2f8f-4463-c498-0eaabc730cb8"
      },
      "source": [
        "\n",
        "# plotting the metrics\n",
        "fig = plt.figure()\n",
        "plt.subplot(2,1,1)\n",
        "plt.plot(history.history['accuracy'])\n",
        "plt.plot(history.history['val_accuracy'])\n",
        "plt.title('model accuracy')\n",
        "plt.ylabel('accuracy')\n",
        "plt.xlabel('epoch')\n",
        "plt.legend(['train', 'test'], loc='lower right')\n",
        "plt.subplot(2,1,2)\n",
        "plt.plot(history.history['loss'])\n",
        "plt.plot(history.history['val_loss'])\n",
        "plt.title('model loss')\n",
        "plt.ylabel('loss')\n",
        "plt.xlabel('epoch')\n",
        "plt.legend(['train', 'test'], loc='upper right')\n",
        "plt.tight_layout()\n"
      ],
      "execution_count": 43,
      "outputs": [
        {
          "output_type": "display_data",
          "data": {
            "image/png": "[encoded data removed]",
            "text/plain": [
              "<Figure size 432x288 with 2 Axes>"
            ]
          },
          "metadata": {
            "tags": []
          }
        }
      ]
    },
    {
      "cell_type": "code",
      "metadata": {
        "id": "AH0JOXLBPy2j",
        "colab_type": "code",
        "colab": {}
      },
      "source": [
        "\n",
        "results = model.predict(test)\n",
        "\n",
        "\n",
        "results = np.argmax(results,axis = 1)\n",
        "results = pd.Series(results,name=\"Label\")"
      ],
      "execution_count": 0,
      "outputs": []
    },
    {
      "cell_type": "code",
      "metadata": {
        "id": "xga5c6qNPy2m",
        "colab_type": "code",
        "colab": {}
      },
      "source": [
        "submission = pd.concat([pd.Series(range(1,28001),name = \"ImageId\"),results],axis = 1)\n",
        "\n",
        "\n",
        "submission.to_csv(\"digit.csv\",index=False)"
      ],
      "execution_count": 0,
      "outputs": []
    }
  ]
}